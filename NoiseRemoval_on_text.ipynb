{
  "nbformat": 4,
  "nbformat_minor": 0,
  "metadata": {
    "colab": {
      "provenance": [],
      "authorship_tag": "ABX9TyOPWli1zIjE8uSOW+/tcjFt",
      "include_colab_link": true
    },
    "kernelspec": {
      "name": "python3",
      "display_name": "Python 3"
    },
    "language_info": {
      "name": "python"
    }
  },
  "cells": [
    {
      "cell_type": "markdown",
      "metadata": {
        "id": "view-in-github",
        "colab_type": "text"
      },
      "source": [
        "<a href=\"https://colab.research.google.com/github/VyshnaviPothamsetti/MachineLearning/blob/main/NoiseRemoval_on_text.ipynb\" target=\"_parent\"><img src=\"https://colab.research.google.com/assets/colab-badge.svg\" alt=\"Open In Colab\"/></a>"
      ]
    },
    {
      "cell_type": "code",
      "execution_count": 23,
      "metadata": {
        "colab": {
          "base_uri": "https://localhost:8080/"
        },
        "id": "y7aAbgdHVC5m",
        "outputId": "e9fcb071-1f54-4e5d-e821-6f3c70b8e041"
      },
      "outputs": [
        {
          "output_type": "stream",
          "name": "stderr",
          "text": [
            "[nltk_data] Downloading package stopwords to /root/nltk_data...\n",
            "[nltk_data]   Package stopwords is already up-to-date!\n",
            "[nltk_data] Downloading package punkt to /root/nltk_data...\n",
            "[nltk_data]   Unzipping tokenizers/punkt.zip.\n"
          ]
        }
      ],
      "source": [
        "import nltk\n",
        "from nltk.corpus import stopwords\n",
        "nltk.download('stopwords')\n",
        "nltk.download('punkt')\n",
        "from nltk.tokenize import word_tokenize\n",
        "import string"
      ]
    },
    {
      "cell_type": "code",
      "source": [
        "def remove_punctuations(sentence):\n",
        "  for i in sentence:\n",
        "    if i in string.punctuation:\n",
        "      sentence = sentence.replace(i,\"\")\n",
        "  return sentence"
      ],
      "metadata": {
        "id": "ybbbqjw9V8mO"
      },
      "execution_count": 24,
      "outputs": []
    },
    {
      "cell_type": "code",
      "source": [
        "def remove_stopwords(sentence):\n",
        "  stop_words=set(stopwords.words('english'))\n",
        "  word_tokens = word_tokenize(example_sent)\n",
        "\n",
        "  filtered_sentence = []\n",
        "\n",
        "  for w in word_tokens:\n",
        "    if w not in stop_words:\n",
        "      filtered_sentence.append(w)\n",
        "  return filtered_sentence"
      ],
      "metadata": {
        "id": "7ivcMKWoWXPd"
      },
      "execution_count": 25,
      "outputs": []
    },
    {
      "cell_type": "code",
      "source": [
        "example_sent = \"\"\"We are learning NAtural Language Processing (NLP) as part of Fundamentals of Machine Learning (FML) course in our second year B.Tech.\"\"\"\n",
        "\n",
        "print(f\"Original sentence:\\n{example_sent}\")\n",
        "example_sent = remove_punctuations(example_sent)\n",
        "print(f\"Sentence after removing punctuations:\\n{example_sent}\")\n",
        "example_sent = \" \".join(remove_stopwords(example_sent))\n",
        "print(f\"Sentence after removing stop words:\\n{example_sent}\")"
      ],
      "metadata": {
        "colab": {
          "base_uri": "https://localhost:8080/"
        },
        "id": "0n9l4bCpW9Wp",
        "outputId": "c91b0f3c-13b5-4377-d497-1f02bd6a3c0e"
      },
      "execution_count": 26,
      "outputs": [
        {
          "output_type": "stream",
          "name": "stdout",
          "text": [
            "Original sentence:\n",
            "We are learning NAtural Language Processing (NLP) as part of Fundamentals of Machine Learning (FML) course in our second year B.Tech.\n",
            "Sentence after removing punctuations:\n",
            "We are learning NAtural Language Processing NLP as part of Fundamentals of Machine Learning FML course in our second year BTech\n",
            "Sentence after removing stop words:\n",
            "We learning NAtural Language Processing NLP part Fundamentals Machine Learning FML course second year BTech\n"
          ]
        }
      ]
    }
  ]
}
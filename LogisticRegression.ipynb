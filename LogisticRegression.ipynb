{
  "nbformat": 4,
  "nbformat_minor": 0,
  "metadata": {
    "colab": {
      "provenance": [],
      "authorship_tag": "ABX9TyOS7IETDwsbLmFrkuEXt6oS",
      "include_colab_link": true
    },
    "kernelspec": {
      "name": "python3",
      "display_name": "Python 3"
    },
    "language_info": {
      "name": "python"
    }
  },
  "cells": [
    {
      "cell_type": "markdown",
      "metadata": {
        "id": "view-in-github",
        "colab_type": "text"
      },
      "source": [
        "<a href=\"https://colab.research.google.com/github/VyshnaviPothamsetti/MachineLearning/blob/main/LogisticRegression.ipynb\" target=\"_parent\"><img src=\"https://colab.research.google.com/assets/colab-badge.svg\" alt=\"Open In Colab\"/></a>"
      ]
    },
    {
      "cell_type": "code",
      "execution_count": 2,
      "metadata": {
        "id": "SlSiYcEQ13-M"
      },
      "outputs": [],
      "source": [
        "import numpy as np\n",
        "import pandas as pd\n",
        "import matplotlib.pyplot as plt\n",
        "import seaborn as sns\n",
        "from sklearn.linear_model import LogisticRegression\n",
        "from sklearn.metrics import classification_report,confusion_matrix"
      ]
    },
    {
      "cell_type": "code",
      "source": [
        "data=pd.read_csv('/content/diabetes.csv')\n",
        "data.head()"
      ],
      "metadata": {
        "colab": {
          "base_uri": "https://localhost:8080/",
          "height": 204
        },
        "id": "voiM4K6v25-Y",
        "outputId": "69fcfc39-64d0-4dfe-a957-d66713de4e44"
      },
      "execution_count": 3,
      "outputs": [
        {
          "output_type": "execute_result",
          "data": {
            "text/plain": [
              "   pregnancies  glucose  diastolic  triceps  insulin   bmi    dpf  age  \\\n",
              "0            6      148         72       35        0  33.6  0.627   50   \n",
              "1            1       85         66       29        0  26.6  0.351   31   \n",
              "2            8      183         64        0        0  23.3  0.672   32   \n",
              "3            1       89         66       23       94  28.1  0.167   21   \n",
              "4            0      137         40       35      168  43.1  2.288   33   \n",
              "\n",
              "   diabetes  \n",
              "0         1  \n",
              "1         0  \n",
              "2         1  \n",
              "3         0  \n",
              "4         1  "
            ],
            "text/html": [
              "\n",
              "  <div id=\"df-e20eda58-6ba5-485a-ba83-adf3c5f0b549\">\n",
              "    <div class=\"colab-df-container\">\n",
              "      <div>\n",
              "<style scoped>\n",
              "    .dataframe tbody tr th:only-of-type {\n",
              "        vertical-align: middle;\n",
              "    }\n",
              "\n",
              "    .dataframe tbody tr th {\n",
              "        vertical-align: top;\n",
              "    }\n",
              "\n",
              "    .dataframe thead th {\n",
              "        text-align: right;\n",
              "    }\n",
              "</style>\n",
              "<table border=\"1\" class=\"dataframe\">\n",
              "  <thead>\n",
              "    <tr style=\"text-align: right;\">\n",
              "      <th></th>\n",
              "      <th>pregnancies</th>\n",
              "      <th>glucose</th>\n",
              "      <th>diastolic</th>\n",
              "      <th>triceps</th>\n",
              "      <th>insulin</th>\n",
              "      <th>bmi</th>\n",
              "      <th>dpf</th>\n",
              "      <th>age</th>\n",
              "      <th>diabetes</th>\n",
              "    </tr>\n",
              "  </thead>\n",
              "  <tbody>\n",
              "    <tr>\n",
              "      <th>0</th>\n",
              "      <td>6</td>\n",
              "      <td>148</td>\n",
              "      <td>72</td>\n",
              "      <td>35</td>\n",
              "      <td>0</td>\n",
              "      <td>33.6</td>\n",
              "      <td>0.627</td>\n",
              "      <td>50</td>\n",
              "      <td>1</td>\n",
              "    </tr>\n",
              "    <tr>\n",
              "      <th>1</th>\n",
              "      <td>1</td>\n",
              "      <td>85</td>\n",
              "      <td>66</td>\n",
              "      <td>29</td>\n",
              "      <td>0</td>\n",
              "      <td>26.6</td>\n",
              "      <td>0.351</td>\n",
              "      <td>31</td>\n",
              "      <td>0</td>\n",
              "    </tr>\n",
              "    <tr>\n",
              "      <th>2</th>\n",
              "      <td>8</td>\n",
              "      <td>183</td>\n",
              "      <td>64</td>\n",
              "      <td>0</td>\n",
              "      <td>0</td>\n",
              "      <td>23.3</td>\n",
              "      <td>0.672</td>\n",
              "      <td>32</td>\n",
              "      <td>1</td>\n",
              "    </tr>\n",
              "    <tr>\n",
              "      <th>3</th>\n",
              "      <td>1</td>\n",
              "      <td>89</td>\n",
              "      <td>66</td>\n",
              "      <td>23</td>\n",
              "      <td>94</td>\n",
              "      <td>28.1</td>\n",
              "      <td>0.167</td>\n",
              "      <td>21</td>\n",
              "      <td>0</td>\n",
              "    </tr>\n",
              "    <tr>\n",
              "      <th>4</th>\n",
              "      <td>0</td>\n",
              "      <td>137</td>\n",
              "      <td>40</td>\n",
              "      <td>35</td>\n",
              "      <td>168</td>\n",
              "      <td>43.1</td>\n",
              "      <td>2.288</td>\n",
              "      <td>33</td>\n",
              "      <td>1</td>\n",
              "    </tr>\n",
              "  </tbody>\n",
              "</table>\n",
              "</div>\n",
              "      <button class=\"colab-df-convert\" onclick=\"convertToInteractive('df-e20eda58-6ba5-485a-ba83-adf3c5f0b549')\"\n",
              "              title=\"Convert this dataframe to an interactive table.\"\n",
              "              style=\"display:none;\">\n",
              "        \n",
              "  <svg xmlns=\"http://www.w3.org/2000/svg\" height=\"24px\"viewBox=\"0 0 24 24\"\n",
              "       width=\"24px\">\n",
              "    <path d=\"M0 0h24v24H0V0z\" fill=\"none\"/>\n",
              "    <path d=\"M18.56 5.44l.94 2.06.94-2.06 2.06-.94-2.06-.94-.94-2.06-.94 2.06-2.06.94zm-11 1L8.5 8.5l.94-2.06 2.06-.94-2.06-.94L8.5 2.5l-.94 2.06-2.06.94zm10 10l.94 2.06.94-2.06 2.06-.94-2.06-.94-.94-2.06-.94 2.06-2.06.94z\"/><path d=\"M17.41 7.96l-1.37-1.37c-.4-.4-.92-.59-1.43-.59-.52 0-1.04.2-1.43.59L10.3 9.45l-7.72 7.72c-.78.78-.78 2.05 0 2.83L4 21.41c.39.39.9.59 1.41.59.51 0 1.02-.2 1.41-.59l7.78-7.78 2.81-2.81c.8-.78.8-2.07 0-2.86zM5.41 20L4 18.59l7.72-7.72 1.47 1.35L5.41 20z\"/>\n",
              "  </svg>\n",
              "      </button>\n",
              "      \n",
              "  <style>\n",
              "    .colab-df-container {\n",
              "      display:flex;\n",
              "      flex-wrap:wrap;\n",
              "      gap: 12px;\n",
              "    }\n",
              "\n",
              "    .colab-df-convert {\n",
              "      background-color: #E8F0FE;\n",
              "      border: none;\n",
              "      border-radius: 50%;\n",
              "      cursor: pointer;\n",
              "      display: none;\n",
              "      fill: #1967D2;\n",
              "      height: 32px;\n",
              "      padding: 0 0 0 0;\n",
              "      width: 32px;\n",
              "    }\n",
              "\n",
              "    .colab-df-convert:hover {\n",
              "      background-color: #E2EBFA;\n",
              "      box-shadow: 0px 1px 2px rgba(60, 64, 67, 0.3), 0px 1px 3px 1px rgba(60, 64, 67, 0.15);\n",
              "      fill: #174EA6;\n",
              "    }\n",
              "\n",
              "    [theme=dark] .colab-df-convert {\n",
              "      background-color: #3B4455;\n",
              "      fill: #D2E3FC;\n",
              "    }\n",
              "\n",
              "    [theme=dark] .colab-df-convert:hover {\n",
              "      background-color: #434B5C;\n",
              "      box-shadow: 0px 1px 3px 1px rgba(0, 0, 0, 0.15);\n",
              "      filter: drop-shadow(0px 1px 2px rgba(0, 0, 0, 0.3));\n",
              "      fill: #FFFFFF;\n",
              "    }\n",
              "  </style>\n",
              "\n",
              "      <script>\n",
              "        const buttonEl =\n",
              "          document.querySelector('#df-e20eda58-6ba5-485a-ba83-adf3c5f0b549 button.colab-df-convert');\n",
              "        buttonEl.style.display =\n",
              "          google.colab.kernel.accessAllowed ? 'block' : 'none';\n",
              "\n",
              "        async function convertToInteractive(key) {\n",
              "          const element = document.querySelector('#df-e20eda58-6ba5-485a-ba83-adf3c5f0b549');\n",
              "          const dataTable =\n",
              "            await google.colab.kernel.invokeFunction('convertToInteractive',\n",
              "                                                     [key], {});\n",
              "          if (!dataTable) return;\n",
              "\n",
              "          const docLinkHtml = 'Like what you see? Visit the ' +\n",
              "            '<a target=\"_blank\" href=https://colab.research.google.com/notebooks/data_table.ipynb>data table notebook</a>'\n",
              "            + ' to learn more about interactive tables.';\n",
              "          element.innerHTML = '';\n",
              "          dataTable['output_type'] = 'display_data';\n",
              "          await google.colab.output.renderOutput(dataTable, element);\n",
              "          const docLink = document.createElement('div');\n",
              "          docLink.innerHTML = docLinkHtml;\n",
              "          element.appendChild(docLink);\n",
              "        }\n",
              "      </script>\n",
              "    </div>\n",
              "  </div>\n",
              "  "
            ]
          },
          "metadata": {},
          "execution_count": 3
        }
      ]
    },
    {
      "cell_type": "code",
      "source": [
        "x=data.drop('diabetes',axis=1).values\n",
        "y=data['diabetes'].values\n",
        "x.shape,y.shape"
      ],
      "metadata": {
        "colab": {
          "base_uri": "https://localhost:8080/"
        },
        "id": "61Rz6ytG26Ik",
        "outputId": "65ccc031-3808-4ab2-b770-f58fe402c1a8"
      },
      "execution_count": 7,
      "outputs": [
        {
          "output_type": "execute_result",
          "data": {
            "text/plain": [
              "((768, 8), (768,))"
            ]
          },
          "metadata": {},
          "execution_count": 7
        }
      ]
    },
    {
      "cell_type": "code",
      "source": [
        "y=y.reshape(-1,1)\n",
        "y.shape"
      ],
      "metadata": {
        "colab": {
          "base_uri": "https://localhost:8080/"
        },
        "id": "W3XMn2ds4JuE",
        "outputId": "a2afd340-6b3a-447f-a7bc-06edf9917bcf"
      },
      "execution_count": 9,
      "outputs": [
        {
          "output_type": "execute_result",
          "data": {
            "text/plain": [
              "(768, 1)"
            ]
          },
          "metadata": {},
          "execution_count": 9
        }
      ]
    },
    {
      "cell_type": "code",
      "source": [
        "from sklearn.model_selection import train_test_split\n",
        "x_train,x_test,y_train,y_test=train_test_split(x,y,test_size=0.2,random_state=30)"
      ],
      "metadata": {
        "id": "dDTZmqEs8uue"
      },
      "execution_count": 102,
      "outputs": []
    },
    {
      "cell_type": "code",
      "source": [
        "model=LogisticRegression(C=0.5)\n",
        "model.fit(x_train,y_train)"
      ],
      "metadata": {
        "colab": {
          "base_uri": "https://localhost:8080/",
          "height": 264
        },
        "id": "nTzG6xvc9PV2",
        "outputId": "e315e3f1-c9f9-4c5a-dea3-764b5782172e"
      },
      "execution_count": 135,
      "outputs": [
        {
          "output_type": "stream",
          "name": "stderr",
          "text": [
            "/usr/local/lib/python3.9/dist-packages/sklearn/utils/validation.py:1143: DataConversionWarning: A column-vector y was passed when a 1d array was expected. Please change the shape of y to (n_samples, ), for example using ravel().\n",
            "  y = column_or_1d(y, warn=True)\n",
            "/usr/local/lib/python3.9/dist-packages/sklearn/linear_model/_logistic.py:458: ConvergenceWarning: lbfgs failed to converge (status=1):\n",
            "STOP: TOTAL NO. of ITERATIONS REACHED LIMIT.\n",
            "\n",
            "Increase the number of iterations (max_iter) or scale the data as shown in:\n",
            "    https://scikit-learn.org/stable/modules/preprocessing.html\n",
            "Please also refer to the documentation for alternative solver options:\n",
            "    https://scikit-learn.org/stable/modules/linear_model.html#logistic-regression\n",
            "  n_iter_i = _check_optimize_result(\n"
          ]
        },
        {
          "output_type": "execute_result",
          "data": {
            "text/plain": [
              "LogisticRegression(C=0.5)"
            ],
            "text/html": [
              "<style>#sk-container-id-18 {color: black;background-color: white;}#sk-container-id-18 pre{padding: 0;}#sk-container-id-18 div.sk-toggleable {background-color: white;}#sk-container-id-18 label.sk-toggleable__label {cursor: pointer;display: block;width: 100%;margin-bottom: 0;padding: 0.3em;box-sizing: border-box;text-align: center;}#sk-container-id-18 label.sk-toggleable__label-arrow:before {content: \"▸\";float: left;margin-right: 0.25em;color: #696969;}#sk-container-id-18 label.sk-toggleable__label-arrow:hover:before {color: black;}#sk-container-id-18 div.sk-estimator:hover label.sk-toggleable__label-arrow:before {color: black;}#sk-container-id-18 div.sk-toggleable__content {max-height: 0;max-width: 0;overflow: hidden;text-align: left;background-color: #f0f8ff;}#sk-container-id-18 div.sk-toggleable__content pre {margin: 0.2em;color: black;border-radius: 0.25em;background-color: #f0f8ff;}#sk-container-id-18 input.sk-toggleable__control:checked~div.sk-toggleable__content {max-height: 200px;max-width: 100%;overflow: auto;}#sk-container-id-18 input.sk-toggleable__control:checked~label.sk-toggleable__label-arrow:before {content: \"▾\";}#sk-container-id-18 div.sk-estimator input.sk-toggleable__control:checked~label.sk-toggleable__label {background-color: #d4ebff;}#sk-container-id-18 div.sk-label input.sk-toggleable__control:checked~label.sk-toggleable__label {background-color: #d4ebff;}#sk-container-id-18 input.sk-hidden--visually {border: 0;clip: rect(1px 1px 1px 1px);clip: rect(1px, 1px, 1px, 1px);height: 1px;margin: -1px;overflow: hidden;padding: 0;position: absolute;width: 1px;}#sk-container-id-18 div.sk-estimator {font-family: monospace;background-color: #f0f8ff;border: 1px dotted black;border-radius: 0.25em;box-sizing: border-box;margin-bottom: 0.5em;}#sk-container-id-18 div.sk-estimator:hover {background-color: #d4ebff;}#sk-container-id-18 div.sk-parallel-item::after {content: \"\";width: 100%;border-bottom: 1px solid gray;flex-grow: 1;}#sk-container-id-18 div.sk-label:hover label.sk-toggleable__label {background-color: #d4ebff;}#sk-container-id-18 div.sk-serial::before {content: \"\";position: absolute;border-left: 1px solid gray;box-sizing: border-box;top: 0;bottom: 0;left: 50%;z-index: 0;}#sk-container-id-18 div.sk-serial {display: flex;flex-direction: column;align-items: center;background-color: white;padding-right: 0.2em;padding-left: 0.2em;position: relative;}#sk-container-id-18 div.sk-item {position: relative;z-index: 1;}#sk-container-id-18 div.sk-parallel {display: flex;align-items: stretch;justify-content: center;background-color: white;position: relative;}#sk-container-id-18 div.sk-item::before, #sk-container-id-18 div.sk-parallel-item::before {content: \"\";position: absolute;border-left: 1px solid gray;box-sizing: border-box;top: 0;bottom: 0;left: 50%;z-index: -1;}#sk-container-id-18 div.sk-parallel-item {display: flex;flex-direction: column;z-index: 1;position: relative;background-color: white;}#sk-container-id-18 div.sk-parallel-item:first-child::after {align-self: flex-end;width: 50%;}#sk-container-id-18 div.sk-parallel-item:last-child::after {align-self: flex-start;width: 50%;}#sk-container-id-18 div.sk-parallel-item:only-child::after {width: 0;}#sk-container-id-18 div.sk-dashed-wrapped {border: 1px dashed gray;margin: 0 0.4em 0.5em 0.4em;box-sizing: border-box;padding-bottom: 0.4em;background-color: white;}#sk-container-id-18 div.sk-label label {font-family: monospace;font-weight: bold;display: inline-block;line-height: 1.2em;}#sk-container-id-18 div.sk-label-container {text-align: center;}#sk-container-id-18 div.sk-container {/* jupyter's `normalize.less` sets `[hidden] { display: none; }` but bootstrap.min.css set `[hidden] { display: none !important; }` so we also need the `!important` here to be able to override the default hidden behavior on the sphinx rendered scikit-learn.org. See: https://github.com/scikit-learn/scikit-learn/issues/21755 */display: inline-block !important;position: relative;}#sk-container-id-18 div.sk-text-repr-fallback {display: none;}</style><div id=\"sk-container-id-18\" class=\"sk-top-container\"><div class=\"sk-text-repr-fallback\"><pre>LogisticRegression(C=0.5)</pre><b>In a Jupyter environment, please rerun this cell to show the HTML representation or trust the notebook. <br />On GitHub, the HTML representation is unable to render, please try loading this page with nbviewer.org.</b></div><div class=\"sk-container\" hidden><div class=\"sk-item\"><div class=\"sk-estimator sk-toggleable\"><input class=\"sk-toggleable__control sk-hidden--visually\" id=\"sk-estimator-id-18\" type=\"checkbox\" checked><label for=\"sk-estimator-id-18\" class=\"sk-toggleable__label sk-toggleable__label-arrow\">LogisticRegression</label><div class=\"sk-toggleable__content\"><pre>LogisticRegression(C=0.5)</pre></div></div></div></div></div>"
            ]
          },
          "metadata": {},
          "execution_count": 135
        }
      ]
    },
    {
      "cell_type": "code",
      "source": [
        "model.classes_,model.intercept_"
      ],
      "metadata": {
        "colab": {
          "base_uri": "https://localhost:8080/"
        },
        "id": "grSj8Cq59fFG",
        "outputId": "d9a5dfd0-60c9-4904-e8c2-4c6f29e575a2"
      },
      "execution_count": 136,
      "outputs": [
        {
          "output_type": "execute_result",
          "data": {
            "text/plain": [
              "(array([0, 1]), array([-8.14694081]))"
            ]
          },
          "metadata": {},
          "execution_count": 136
        }
      ]
    },
    {
      "cell_type": "code",
      "source": [
        "model.predict_proba(x_test),x_test.shape,x_train.shape"
      ],
      "metadata": {
        "colab": {
          "base_uri": "https://localhost:8080/"
        },
        "id": "Gqn3MT9n9mqX",
        "outputId": "9b05752e-d55d-46b4-dd30-e15e2a01e39e"
      },
      "execution_count": 137,
      "outputs": [
        {
          "output_type": "execute_result",
          "data": {
            "text/plain": [
              "(array([[0.89095495, 0.10904505],\n",
              "        [0.85771874, 0.14228126],\n",
              "        [0.8796813 , 0.1203187 ],\n",
              "        [0.39611182, 0.60388818],\n",
              "        [0.84854109, 0.15145891],\n",
              "        [0.9512916 , 0.0487084 ],\n",
              "        [0.29847605, 0.70152395],\n",
              "        [0.74582546, 0.25417454],\n",
              "        [0.65064183, 0.34935817],\n",
              "        [0.95088105, 0.04911895],\n",
              "        [0.89071183, 0.10928817],\n",
              "        [0.82653341, 0.17346659],\n",
              "        [0.89139386, 0.10860614],\n",
              "        [0.8007298 , 0.1992702 ],\n",
              "        [0.92862253, 0.07137747],\n",
              "        [0.91635052, 0.08364948],\n",
              "        [0.77051221, 0.22948779],\n",
              "        [0.78975292, 0.21024708],\n",
              "        [0.20864975, 0.79135025],\n",
              "        [0.87271544, 0.12728456],\n",
              "        [0.58770966, 0.41229034],\n",
              "        [0.14263479, 0.85736521],\n",
              "        [0.50824483, 0.49175517],\n",
              "        [0.65354746, 0.34645254],\n",
              "        [0.04007982, 0.95992018],\n",
              "        [0.56416434, 0.43583566],\n",
              "        [0.91356843, 0.08643157],\n",
              "        [0.95689132, 0.04310868],\n",
              "        [0.95518787, 0.04481213],\n",
              "        [0.65021423, 0.34978577],\n",
              "        [0.80509828, 0.19490172],\n",
              "        [0.63993646, 0.36006354],\n",
              "        [0.49971132, 0.50028868],\n",
              "        [0.32557043, 0.67442957],\n",
              "        [0.97784099, 0.02215901],\n",
              "        [0.85317107, 0.14682893],\n",
              "        [0.80254154, 0.19745846],\n",
              "        [0.21200221, 0.78799779],\n",
              "        [0.25386084, 0.74613916],\n",
              "        [0.90749028, 0.09250972],\n",
              "        [0.87729493, 0.12270507],\n",
              "        [0.3862039 , 0.6137961 ],\n",
              "        [0.91714224, 0.08285776],\n",
              "        [0.6049365 , 0.3950635 ],\n",
              "        [0.3647525 , 0.6352475 ],\n",
              "        [0.16599453, 0.83400547],\n",
              "        [0.37431105, 0.62568895],\n",
              "        [0.23081535, 0.76918465],\n",
              "        [0.94911536, 0.05088464],\n",
              "        [0.95937122, 0.04062878],\n",
              "        [0.9584695 , 0.0415305 ],\n",
              "        [0.72707019, 0.27292981],\n",
              "        [0.71596893, 0.28403107],\n",
              "        [0.21559458, 0.78440542],\n",
              "        [0.6778428 , 0.3221572 ],\n",
              "        [0.46715992, 0.53284008],\n",
              "        [0.51592703, 0.48407297],\n",
              "        [0.83420488, 0.16579512],\n",
              "        [0.86721168, 0.13278832],\n",
              "        [0.95621335, 0.04378665],\n",
              "        [0.86516436, 0.13483564],\n",
              "        [0.92266628, 0.07733372],\n",
              "        [0.31659539, 0.68340461],\n",
              "        [0.70874955, 0.29125045],\n",
              "        [0.71946581, 0.28053419],\n",
              "        [0.79738168, 0.20261832],\n",
              "        [0.1218174 , 0.8781826 ],\n",
              "        [0.18551821, 0.81448179],\n",
              "        [0.48122694, 0.51877306],\n",
              "        [0.94720817, 0.05279183],\n",
              "        [0.66222621, 0.33777379],\n",
              "        [0.24696295, 0.75303705],\n",
              "        [0.77094788, 0.22905212],\n",
              "        [0.58583796, 0.41416204],\n",
              "        [0.7930699 , 0.2069301 ],\n",
              "        [0.27851972, 0.72148028],\n",
              "        [0.91726996, 0.08273004],\n",
              "        [0.25728371, 0.74271629],\n",
              "        [0.28597456, 0.71402544],\n",
              "        [0.712812  , 0.287188  ],\n",
              "        [0.92226286, 0.07773714],\n",
              "        [0.64111496, 0.35888504],\n",
              "        [0.81689835, 0.18310165],\n",
              "        [0.55857009, 0.44142991],\n",
              "        [0.70100703, 0.29899297],\n",
              "        [0.45712084, 0.54287916],\n",
              "        [0.94588199, 0.05411801],\n",
              "        [0.92269682, 0.07730318],\n",
              "        [0.80152005, 0.19847995],\n",
              "        [0.73196976, 0.26803024],\n",
              "        [0.80431667, 0.19568333],\n",
              "        [0.8593171 , 0.1406829 ],\n",
              "        [0.75856356, 0.24143644],\n",
              "        [0.88972144, 0.11027856],\n",
              "        [0.5157009 , 0.4842991 ],\n",
              "        [0.97502212, 0.02497788],\n",
              "        [0.82897503, 0.17102497],\n",
              "        [0.70658274, 0.29341726],\n",
              "        [0.32924402, 0.67075598],\n",
              "        [0.34488241, 0.65511759],\n",
              "        [0.8015533 , 0.1984467 ],\n",
              "        [0.8409129 , 0.1590871 ],\n",
              "        [0.08377808, 0.91622192],\n",
              "        [0.32054291, 0.67945709],\n",
              "        [0.16731484, 0.83268516],\n",
              "        [0.75398373, 0.24601627],\n",
              "        [0.62438725, 0.37561275],\n",
              "        [0.98701334, 0.01298666],\n",
              "        [0.87012928, 0.12987072],\n",
              "        [0.82208891, 0.17791109],\n",
              "        [0.40958153, 0.59041847],\n",
              "        [0.53864998, 0.46135002],\n",
              "        [0.82151621, 0.17848379],\n",
              "        [0.58987326, 0.41012674],\n",
              "        [0.77335792, 0.22664208],\n",
              "        [0.81014759, 0.18985241],\n",
              "        [0.61035676, 0.38964324],\n",
              "        [0.28772166, 0.71227834],\n",
              "        [0.8064954 , 0.1935046 ],\n",
              "        [0.49364554, 0.50635446],\n",
              "        [0.7284882 , 0.2715118 ],\n",
              "        [0.34573605, 0.65426395],\n",
              "        [0.74079547, 0.25920453],\n",
              "        [0.87654025, 0.12345975],\n",
              "        [0.52367455, 0.47632545],\n",
              "        [0.95922579, 0.04077421],\n",
              "        [0.98071227, 0.01928773],\n",
              "        [0.9063854 , 0.0936146 ],\n",
              "        [0.94531629, 0.05468371],\n",
              "        [0.87850606, 0.12149394],\n",
              "        [0.92699467, 0.07300533],\n",
              "        [0.25371314, 0.74628686],\n",
              "        [0.86485841, 0.13514159],\n",
              "        [0.28169501, 0.71830499],\n",
              "        [0.2029841 , 0.7970159 ],\n",
              "        [0.83829816, 0.16170184],\n",
              "        [0.33420547, 0.66579453],\n",
              "        [0.96859053, 0.03140947],\n",
              "        [0.70473428, 0.29526572],\n",
              "        [0.94832918, 0.05167082],\n",
              "        [0.44717221, 0.55282779],\n",
              "        [0.92242003, 0.07757997],\n",
              "        [0.9191113 , 0.0808887 ],\n",
              "        [0.81699504, 0.18300496],\n",
              "        [0.76235998, 0.23764002],\n",
              "        [0.69800391, 0.30199609],\n",
              "        [0.17556101, 0.82443899],\n",
              "        [0.67733559, 0.32266441],\n",
              "        [0.74863261, 0.25136739],\n",
              "        [0.06873947, 0.93126053],\n",
              "        [0.59339422, 0.40660578],\n",
              "        [0.66857701, 0.33142299],\n",
              "        [0.29159085, 0.70840915],\n",
              "        [0.98236979, 0.01763021]]),\n",
              " (154, 8),\n",
              " (614, 8))"
            ]
          },
          "metadata": {},
          "execution_count": 137
        }
      ]
    },
    {
      "cell_type": "code",
      "source": [
        "y_pred=model.predict(x_test)"
      ],
      "metadata": {
        "id": "_W3LaYwI-AT_"
      },
      "execution_count": 138,
      "outputs": []
    },
    {
      "cell_type": "code",
      "source": [
        "model.score(x_test,y_test)"
      ],
      "metadata": {
        "colab": {
          "base_uri": "https://localhost:8080/"
        },
        "id": "Uw46JV7O-HHU",
        "outputId": "b649b44e-f145-4701-deba-ebd99c81ed02"
      },
      "execution_count": 139,
      "outputs": [
        {
          "output_type": "execute_result",
          "data": {
            "text/plain": [
              "0.8181818181818182"
            ]
          },
          "metadata": {},
          "execution_count": 139
        }
      ]
    },
    {
      "cell_type": "code",
      "source": [
        "y_pred"
      ],
      "metadata": {
        "colab": {
          "base_uri": "https://localhost:8080/"
        },
        "id": "H-DsMCnM-fPn",
        "outputId": "6f1731ad-757c-4eb8-f384-20aa9d1fc05a"
      },
      "execution_count": 140,
      "outputs": [
        {
          "output_type": "execute_result",
          "data": {
            "text/plain": [
              "array([0, 0, 0, 1, 0, 0, 1, 0, 0, 0, 0, 0, 0, 0, 0, 0, 0, 0, 1, 0, 0, 1,\n",
              "       0, 0, 1, 0, 0, 0, 0, 0, 0, 0, 1, 1, 0, 0, 0, 1, 1, 0, 0, 1, 0, 0,\n",
              "       1, 1, 1, 1, 0, 0, 0, 0, 0, 1, 0, 1, 0, 0, 0, 0, 0, 0, 1, 0, 0, 0,\n",
              "       1, 1, 1, 0, 0, 1, 0, 0, 0, 1, 0, 1, 1, 0, 0, 0, 0, 0, 0, 1, 0, 0,\n",
              "       0, 0, 0, 0, 0, 0, 0, 0, 0, 0, 1, 1, 0, 0, 1, 1, 1, 0, 0, 0, 0, 0,\n",
              "       1, 0, 0, 0, 0, 0, 0, 1, 0, 1, 0, 1, 0, 0, 0, 0, 0, 0, 0, 0, 0, 1,\n",
              "       0, 1, 1, 0, 1, 0, 0, 0, 1, 0, 0, 0, 0, 0, 1, 0, 0, 1, 0, 0, 1, 0])"
            ]
          },
          "metadata": {},
          "execution_count": 140
        }
      ]
    },
    {
      "cell_type": "code",
      "source": [
        "confusion_matrix(y_test,y_pred)"
      ],
      "metadata": {
        "colab": {
          "base_uri": "https://localhost:8080/"
        },
        "id": "4RVM9k2f-tHQ",
        "outputId": "df734a4b-1f18-40f2-a2e3-21b64d20d43a"
      },
      "execution_count": 141,
      "outputs": [
        {
          "output_type": "execute_result",
          "data": {
            "text/plain": [
              "array([[94, 10],\n",
              "       [18, 32]])"
            ]
          },
          "metadata": {},
          "execution_count": 141
        }
      ]
    },
    {
      "cell_type": "code",
      "source": [
        "print(classification_report(y_test,y_pred))"
      ],
      "metadata": {
        "colab": {
          "base_uri": "https://localhost:8080/"
        },
        "id": "ge9zIKBP-4A7",
        "outputId": "4c09c07e-d331-4f6e-c2a2-0c5b0734d413"
      },
      "execution_count": 142,
      "outputs": [
        {
          "output_type": "stream",
          "name": "stdout",
          "text": [
            "              precision    recall  f1-score   support\n",
            "\n",
            "           0       0.84      0.90      0.87       104\n",
            "           1       0.76      0.64      0.70        50\n",
            "\n",
            "    accuracy                           0.82       154\n",
            "   macro avg       0.80      0.77      0.78       154\n",
            "weighted avg       0.81      0.82      0.81       154\n",
            "\n"
          ]
        }
      ]
    },
    {
      "cell_type": "markdown",
      "source": [
        "###CONCLUSION\n",
        "##As the value of logistic coefficient increases the score & accuracy of the model decreases "
      ],
      "metadata": {
        "id": "VOaO_Y1i_zLB"
      }
    },
    {
      "cell_type": "code",
      "source": [],
      "metadata": {
        "id": "sF3D8EnLAPMD"
      },
      "execution_count": null,
      "outputs": []
    }
  ]
}